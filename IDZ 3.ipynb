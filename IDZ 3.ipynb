{
 "cells": [
  {
   "cell_type": "markdown",
   "id": "cd23ca58-1b66-43fd-82e3-b2fcb5374671",
   "metadata": {},
   "source": [
    "Тема: Классы и объекты (ООП)"
   ]
  },
  {
   "cell_type": "markdown",
   "id": "de1e6635-b6f3-478d-a9c4-635e9a9f9a28",
   "metadata": {},
   "source": [
    "Создайте модель для онлайн-магазина, который управляет товарами и заказами. Ваша задача — реализовать классы для товаров, заказов и магазина, который будет обрабатывать заказы.\n",
    "Требования\n",
    "1. Класс Product\n",
    "  Атрибуты:\n",
    "-name (строка) — название товара;\n",
    "-price (число) — цена товара;\n",
    "-stock (целое число) — количество товара на складе.\n",
    "  Методы:\n",
    "-update_stock(quantity) — метод, который обновляет количество товара на складе. Если количество становится отрицательным, должно выдаваться сообщение об ошибке.\n",
    "2. Класс Order\n",
    "  Атрибуты:\n",
    "-products (словарь) — словарь, где ключом является объект Product, а значением — количество этого товара в заказе.\n",
    "  Методы:\n",
    "-add_product(product, quantity) — метод для добавления товара в заказ. Если товара недостаточно на складе, должно выдаваться сообщение об ошибке;\n",
    "-calculate_total() — метод для расчёта общей стоимости заказа.\n",
    "3. Класс Store\n",
    "  Атрибуты:\n",
    "-products (список) — список всех доступных товаров в магазине.\n",
    "  Методы:\n",
    "-add_product(product) — метод для добавления товара в магазин;\n",
    "-list_products() — метод для отображения всех товаров в магазине с их ценами и количеством на складе;\n",
    "-create_order() — метод для создания нового заказа.\n",
    "Сверьтесь с примером использования (https://disk.360.yandex.ru/d/RjrNSocjgnLotg).\n",
    "Дополнительные задания (выполняется по желанию)\n",
    "1. Реализуйте возможность удаления товаров из заказа.\n",
    "-Добавьте метод remove_product(product, quantity) в класс Order, который будет удалять указанное количество товара из заказа. Если количество товара в заказе становится равным нулю, удалите товар из словаря products.\n",
    "2. Добавьте функциональность для обработки возвратов товаров и обновления запасов.\n",
    "-Реализуйте метод return_product(product, quantity) в классе Order, который будет возвращать указанный товар обратно в магазин. Этот метод должен:\n",
    "  уменьшать количество товара в заказе;\n",
    "  вызывать метод update_stock(quantity) у объекта Product, чтобы увеличить количество товара на складе;\n",
    "  если количество товара в заказе становится равным нулю, удалите товар из словаря products."
   ]
  },
  {
   "cell_type": "markdown",
   "id": "f22ffc32-cf00-4456-b815-db9ede93d7b5",
   "metadata": {},
   "source": [
    "Создадим класс Product с атрибутами:\n",
    "-name (строка) — название товара;\n",
    "-price (число) — цена товара;\n",
    "-stock (целое число) — количество товара на складе.\n",
    "и методом:\n",
    "-update_stock(quantity) — метод, который обновляет количество товара на складе. Если количество становится отрицательным, должно выдаваться сообщение об ошибке."
   ]
  },
  {
   "cell_type": "code",
   "execution_count": 2,
   "id": "4e59b4fb-f28f-43d0-a702-b1ffe2276258",
   "metadata": {},
   "outputs": [],
   "source": [
    "class Product:\n",
    "    def __init__(self, name, price, stock):\n",
    "        self.name = name\n",
    "        self.price = price\n",
    "        self.stock = stock\n",
    "\n",
    "    def update_stock(self, quantity):\n",
    "        \"\"\"Обновляет количество товара на складе.\"\"\"\n",
    "        if self.stock + quantity < 0:\n",
    "            print(f\"Ошибка: недостаточно товара '{self.name}' на складе!\")\n",
    "        else:\n",
    "            self.stock += quantity\n",
    "\n",
    "    def __str__(self):\n",
    "        return f\"{self.name} — ${self.price}, в наличии: {self.stock}\""
   ]
  },
  {
   "cell_type": "markdown",
   "id": "d175d7a0-4e5a-4c65-bfd4-a9ee3f0edee9",
   "metadata": {},
   "source": [
    "Создадим класс Order с атрибутами:\n",
    "-products (словарь) — словарь, где ключом является объект Product, а значением — количество этого товара в заказе.\n",
    "и методами:\n",
    "-add_product(product, quantity) — метод для добавления товара в заказ. Если товара недостаточно на складе, должно выдаваться сообщение об ошибке;\n",
    "-calculate_total() — метод для расчёта общей стоимости заказа."
   ]
  },
  {
   "cell_type": "code",
   "execution_count": 3,
   "id": "02348dbe-b350-43e9-b71d-b74736987ffa",
   "metadata": {},
   "outputs": [],
   "source": [
    "class Order:\n",
    "    def __init__(self):\n",
    "        self.products = {}  # ключ: Product, значение: количество\n",
    "\n",
    "    def add_product(self, product, quantity):\n",
    "        \"\"\"Добавляет товар в заказ, проверяя наличие на складе.\"\"\"\n",
    "        if quantity <= 0:\n",
    "            print(\"Ошибка: количество должно быть положительным!\")\n",
    "            return\n",
    "\n",
    "        if product.stock < quantity:\n",
    "            print(f\"Ошибка: недостаточно товара '{product.name}' на складе!\")\n",
    "        else:\n",
    "            # Списываем товар со склада\n",
    "            product.update_stock(-quantity)\n",
    "            # Добавляем в заказ\n",
    "            if product in self.products:\n",
    "                self.products[product] += quantity\n",
    "            else:\n",
    "                self.products[product] = quantity\n",
    "            print(f\"Товар '{product.name}' добавлен в заказ (кол-во: {quantity}).\")\n",
    "\n",
    "    def calculate_total(self):\n",
    "        \"\"\"Возвращает общую стоимость заказа.\"\"\"\n",
    "        total = sum(product.price * qty for product, qty in self.products.items())\n",
    "        return total"
   ]
  },
  {
   "cell_type": "markdown",
   "id": "d03d0001-bcba-4b22-b346-527556bb806a",
   "metadata": {},
   "source": [
    "Создадим класс Store с атрибутом:\n",
    "-products (список) — список всех доступных товаров в магазине.\n",
    "и методами:\n",
    "-add_product(product) — метод для добавления товара в магазин;\n",
    "-list_products() — метод для отображения всех товаров в магазине с их ценами и количеством на складе;\n",
    "-create_order() — метод для создания нового заказа."
   ]
  },
  {
   "cell_type": "code",
   "execution_count": 4,
   "id": "f8811a82-9eb9-4714-bb8a-681b9c6105bb",
   "metadata": {},
   "outputs": [],
   "source": [
    "class Store:\n",
    "    def __init__(self):\n",
    "        self.products = []  # список объектов Product\n",
    "\n",
    "    def add_product(self, product):\n",
    "        \"\"\"Добавляет товар в магазин.\"\"\"\n",
    "        self.products.append(product)\n",
    "        print(f\"Товар '{product.name}' добавлен в магазин.\")\n",
    "\n",
    "    def list_products(self):\n",
    "        \"\"\"Выводит список всех товаров с ценами и остатками.\"\"\"\n",
    "        print(\"\\nСписок товаров в магазине:\")\n",
    "        for product in self.products:\n",
    "            print(f\"- {product}\")\n",
    "        print()\n",
    "\n",
    "    def create_order(self):\n",
    "        \"\"\"Создает новый заказ.\"\"\"\n",
    "        print(\"Создан новый заказ.\")\n",
    "        return Order()\n"
   ]
  },
  {
   "cell_type": "markdown",
   "id": "973ace82-75fb-4990-a980-1623df5b3dd0",
   "metadata": {},
   "source": [
    "Сверямся с примером использования"
   ]
  },
  {
   "cell_type": "code",
   "execution_count": 5,
   "id": "aa2248f3-176a-46ae-b262-de9580a01713",
   "metadata": {},
   "outputs": [
    {
     "name": "stdout",
     "output_type": "stream",
     "text": [
      "Товар 'Ноутбук' добавлен в магазин.\n",
      "Товар 'Смартфон' добавлен в магазин.\n",
      "\n",
      "Список товаров в магазине:\n",
      "- Ноутбук — $1000, в наличии: 5\n",
      "- Смартфон — $500, в наличии: 10\n",
      "\n",
      "Создан новый заказ.\n",
      "Товар 'Ноутбук' добавлен в заказ (кол-во: 2).\n",
      "Товар 'Смартфон' добавлен в заказ (кол-во: 3).\n",
      "Общая стоимость заказа: 3500\n",
      "\n",
      "Список товаров в магазине:\n",
      "- Ноутбук — $1000, в наличии: 3\n",
      "- Смартфон — $500, в наличии: 7\n",
      "\n"
     ]
    }
   ],
   "source": [
    "if __name__ == \"__main__\":\n",
    "    # Создаем магазин\n",
    "    store = Store()\n",
    "\n",
    "    # Создаем товары\n",
    "    product1 = Product(\"Ноутбук\", 1000, 5)\n",
    "    product2 = Product(\"Смартфон\", 500, 10)\n",
    "\n",
    "    # Добавляем товары в магазин\n",
    "    store.add_product(product1)\n",
    "    store.add_product(product2)\n",
    "\n",
    "    # Список всех товаров\n",
    "    store.list_products()\n",
    "\n",
    "    # Создаем заказ\n",
    "    order = store.create_order()\n",
    "\n",
    "    # Добавляем товары в заказ\n",
    "    order.add_product(product1, 2)\n",
    "    order.add_product(product2, 3)\n",
    "\n",
    "    # Выводим общую стоимость заказа\n",
    "    total = order.calculate_total()\n",
    "    print(f\"Общая стоимость заказа: {total}\")\n",
    "\n",
    "    # Проверяем остатки на складе после заказа\n",
    "    store.list_products()"
   ]
  },
  {
   "cell_type": "code",
   "execution_count": null,
   "id": "35a61f81-4821-41d2-b6d5-339db372dfc9",
   "metadata": {},
   "outputs": [],
   "source": []
  }
 ],
 "metadata": {
  "kernelspec": {
   "display_name": "Python 3 (ipykernel)",
   "language": "python",
   "name": "python3"
  },
  "language_info": {
   "codemirror_mode": {
    "name": "ipython",
    "version": 3
   },
   "file_extension": ".py",
   "mimetype": "text/x-python",
   "name": "python",
   "nbconvert_exporter": "python",
   "pygments_lexer": "ipython3",
   "version": "3.13.6"
  }
 },
 "nbformat": 4,
 "nbformat_minor": 5
}
